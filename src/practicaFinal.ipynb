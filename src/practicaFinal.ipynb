{
    "cells": [
        {
            "cell_type": "markdown",
            "metadata": {},
            "source": [
                "## Practica 1: Extraer top 10 canciones usando spotipy y gaficar los resultados\n"
            ]
        },
        {
            "cell_type": "code",
            "execution_count": 11,
            "metadata": {},
            "outputs": [
                {
                    "data": {
                        "text/html": [
                            "<div>\n",
                            "<style scoped>\n",
                            "    .dataframe tbody tr th:only-of-type {\n",
                            "        vertical-align: middle;\n",
                            "    }\n",
                            "\n",
                            "    .dataframe tbody tr th {\n",
                            "        vertical-align: top;\n",
                            "    }\n",
                            "\n",
                            "    .dataframe thead th {\n",
                            "        text-align: right;\n",
                            "    }\n",
                            "</style>\n",
                            "<table border=\"1\" class=\"dataframe\">\n",
                            "  <thead>\n",
                            "    <tr style=\"text-align: right;\">\n",
                            "      <th></th>\n",
                            "      <th>nombre</th>\n",
                            "      <th>popularidad</th>\n",
                            "      <th>duracion_minutos</th>\n",
                            "    </tr>\n",
                            "  </thead>\n",
                            "  <tbody>\n",
                            "    <tr>\n",
                            "      <th>0</th>\n",
                            "      <td>Signed, Sealed, Delivered (I'm Yours)</td>\n",
                            "      <td>80</td>\n",
                            "      <td>2.69</td>\n",
                            "    </tr>\n",
                            "    <tr>\n",
                            "      <th>1</th>\n",
                            "      <td>For Once In My Life</td>\n",
                            "      <td>79</td>\n",
                            "      <td>2.83</td>\n",
                            "    </tr>\n",
                            "    <tr>\n",
                            "      <th>2</th>\n",
                            "      <td>I Just Called To Say I Love You</td>\n",
                            "      <td>78</td>\n",
                            "      <td>4.37</td>\n",
                            "    </tr>\n",
                            "  </tbody>\n",
                            "</table>\n",
                            "</div>"
                        ],
                        "text/plain": [
                            "                                  nombre  popularidad  duracion_minutos\n",
                            "0  Signed, Sealed, Delivered (I'm Yours)           80              2.69\n",
                            "1                    For Once In My Life           79              2.83\n",
                            "2        I Just Called To Say I Love You           78              4.37"
                        ]
                    },
                    "metadata": {},
                    "output_type": "display_data"
                },
                {
                    "data": {
                        "image/png": "[encoded data removed]",
                        "text/plain": [
                            "<Figure size 640x480 with 1 Axes>"
                        ]
                    },
                    "metadata": {},
                    "output_type": "display_data"
                }
            ],
            "source": [
                "# importamos modulos necesarios\n",
                "import os\n",
                "from sqlalchemy import create_engine\n",
                "import matplotlib.pyplot as plt\n",
                "import seaborn as sbn\n",
                "import pandas as pd\n",
                "import spotipy\n",
                "from dotenv import load_dotenv\n",
                "from spotipy.oauth2 import SpotifyClientCredentials\n",
                "# Cargamos archivo credenciales\n",
                "load_dotenv()\n",
                "\n",
                "client_id = os.environ.get('CLIENT_ID')\n",
                "client_secret = os.environ.get('CLIENT_SECRET')\n",
                "\n",
                "\n",
                "#creamos instancia de spotipy\n",
                "spot = spotipy.Spotify(auth_manager = SpotifyClientCredentials(client_id = client_id,client_secret = client_secret))\n",
                "# definimos el identificador del artista                                                             \n",
                "SW_uri = 'spotify:artist:7guDJrEfX3qb6FEbdPA5qi'\n",
                "# extraemos el top 10\n",
                "top_10_tracks = spot.artist_top_tracks(SW_uri)\n",
                "# definimos las listas donde se incluiran las caracteristicas de cada cancion\n",
                "top10_name= []\n",
                "top10_duration = []\n",
                "top10_popularity = []\n",
                "# iteramos sobre el diccionario resultado  top_10_tracks, dentro de la subclave 'tracks'\n",
                "for track in top_10_tracks['tracks']:\n",
                "    # extraemos nombre ,duracion y popularidad y añadimos a sus respectivas listas \n",
                "    top10_name.append(track['name'])\n",
                "    top10_duration.append(round((track['duration_ms']/1000)/60, 2))      # convertimos milisegundos a minutos\n",
                "    top10_popularity.append(track['popularity'])\n",
                "    \n",
                "# Creamos dataframe con  los datos de las tres listas\n",
                "top10_df = pd.DataFrame(list(zip(top10_name, top10_popularity, top10_duration)), columns=['nombre', 'popularidad', 'duracion_minutos'])\n",
                "# mostramos el dataframe\n",
                "display(top10_df.head(3))\n",
                "\n",
                "# definimos el grafico de puntos \n",
                "sbn.scatterplot(x='popularidad', y='duracion_minutos', data=top10_df).set_title('Distribucion de canciones por popularidad y duracion', fontsize=12)\n",
                "# mostramos el grafico\n",
                "plt.show()"
            ]
        },
        {
            "cell_type": "markdown",
            "metadata": {},
            "source": [
                "### Conclusiones\n",
                "No se observa ninguna relación entre duración y popularidad. Casi todos los datos estan distribuidos en el mismo rango de \n",
                "popularidad independientemente de la duración de la canción a excepcion de 'That's What Friends Are For' que es realmente mala :)"
            ]
        },
        {
            "cell_type": "markdown",
            "metadata": {},
            "source": [
                "## 2ªPractica: Extraer mas de 10 canciones "
            ]
        },
        {
            "cell_type": "code",
            "execution_count": 12,
            "metadata": {},
            "outputs": [
                {
                    "name": "stdout",
                    "output_type": "stream",
                    "text": [
                        "0 3wl8NRDyJ0EDQcj8gu2J3N\n",
                        "1 3gvuqyyvdMS8CbEwTLu5uL\n",
                        "2 6hu9W3TWiCF5sETB1pvrHl\n",
                        "3 1AjRRHn7aHgPxBWHlF5sO3\n",
                        "4 1xO2rklexBS68eSOqIU4Il\n",
                        "5 54vpVgdihAoRU6pmuoHaxf\n",
                        "6 1nLKZqTGA48v3I8dNFkvQt\n",
                        "7 1kbx6EnG9tGk6qiGkPbTFs\n",
                        "8 2g9Ij40DD7aPaG4hwa8Uab\n",
                        "9 1ZuQduJGh0lBynUsfzD1tH\n",
                        "10 3LSgLZrSXELqWt5eqb6XMY\n",
                        "11 6YUCc2RiXcEKS9ibuZxjt0\n",
                        "12 1kda4McF274Jl5x3aOAmPJ\n",
                        "13 5jgI8Eminx9MmLBontDWq8\n",
                        "14 3PResMqFgQYBfzTnqTKwQw\n",
                        "15 7n0bcoRDylRw5PUKn2PlRJ\n",
                        "16 2oV8OJKtyGR7MwXH45rOoE\n",
                        "17 5Ejztki15nFl3ts3SqjhKE\n",
                        "18 7u0RcxWUGoImmF4LgodaH8\n",
                        "19 0OP3OMK3KZgAwqFA7pgHl5\n"
                    ]
                }
            ],
            "source": [
                "# obtengo los albumes del cantante\n",
                "albums = spot.artist_albums(SW_uri)\n",
                "# se crea lista vacia donde almacenar los id de los albumes\n",
                "complete_albums_ids = []\n",
                "# Albums es un diccionario anidado dentro del cual se encuentra la subclave 'items' donde se encuentran los ids\n",
                "ids = albums['items']     \n",
                "# iteramos dentro de album['items'] \n",
                "for album in ids:\n",
                "    # en cada iteracion obtenemos el indice ['id'] del elemento album\n",
                "    complete_albums_ids.append(album['id'])\n",
                "# muestra del resultado = uri de cada album\n",
                "for indice, value in enumerate(complete_albums_ids):\n",
                "        print(indice, value)\n"
            ]
        },
        {
            "cell_type": "code",
            "execution_count": 19,
            "metadata": {},
            "outputs": [],
            "source": [
                "#creamos lista donde almacenar todas las canciones\n",
                "complete_tracks = []\n",
                "# iteramos sobre la lista de uris de los albumes solicitando a la api las canciones de cada uno de ellos\n",
                "for id in complete_albums_ids:\n",
                "    album_tracks = spot.album_tracks(id, offset=0, market='ES')\n",
                "    complete_tracks.append(album_tracks)\n"
            ]
        },
        {
            "cell_type": "code",
            "execution_count": 18,
            "metadata": {},
            "outputs": [
                {
                    "data": {
                        "text/html": [
                            "<div>\n",
                            "<style scoped>\n",
                            "    .dataframe tbody tr th:only-of-type {\n",
                            "        vertical-align: middle;\n",
                            "    }\n",
                            "\n",
                            "    .dataframe tbody tr th {\n",
                            "        vertical-align: top;\n",
                            "    }\n",
                            "\n",
                            "    .dataframe thead th {\n",
                            "        text-align: right;\n",
                            "    }\n",
                            "</style>\n",
                            "<table border=\"1\" class=\"dataframe\">\n",
                            "  <thead>\n",
                            "    <tr style=\"text-align: right;\">\n",
                            "      <th></th>\n",
                            "      <th>name</th>\n",
                            "      <th>duration</th>\n",
                            "      <th>song number</th>\n",
                            "    </tr>\n",
                            "  </thead>\n",
                            "  <tbody>\n",
                            "    <tr>\n",
                            "      <th>0</th>\n",
                            "      <td>Bird Of Beauty - Live 1975</td>\n",
                            "      <td>6.64</td>\n",
                            "      <td>1</td>\n",
                            "    </tr>\n",
                            "    <tr>\n",
                            "      <th>1</th>\n",
                            "      <td>Contusion - Live 1975</td>\n",
                            "      <td>2.16</td>\n",
                            "      <td>2</td>\n",
                            "    </tr>\n",
                            "    <tr>\n",
                            "      <th>2</th>\n",
                            "      <td>Jam - Live 1975</td>\n",
                            "      <td>3.10</td>\n",
                            "      <td>3</td>\n",
                            "    </tr>\n",
                            "    <tr>\n",
                            "      <th>3</th>\n",
                            "      <td>Yea Ya Do - Live 1975</td>\n",
                            "      <td>2.35</td>\n",
                            "      <td>4</td>\n",
                            "    </tr>\n",
                            "    <tr>\n",
                            "      <th>4</th>\n",
                            "      <td>Higher Ground - Live 1975</td>\n",
                            "      <td>4.36</td>\n",
                            "      <td>5</td>\n",
                            "    </tr>\n",
                            "    <tr>\n",
                            "      <th>...</th>\n",
                            "      <td>...</td>\n",
                            "      <td>...</td>\n",
                            "      <td>...</td>\n",
                            "    </tr>\n",
                            "    <tr>\n",
                            "      <th>275</th>\n",
                            "      <td>Blowin' In The Wind - Live/1970</td>\n",
                            "      <td>6.68</td>\n",
                            "      <td>11</td>\n",
                            "    </tr>\n",
                            "    <tr>\n",
                            "      <th>276</th>\n",
                            "      <td>By The Time I Get To Phoenix - Live/1970</td>\n",
                            "      <td>4.16</td>\n",
                            "      <td>12</td>\n",
                            "    </tr>\n",
                            "    <tr>\n",
                            "      <th>277</th>\n",
                            "      <td>Ca' Purange - Live/1970</td>\n",
                            "      <td>6.86</td>\n",
                            "      <td>13</td>\n",
                            "    </tr>\n",
                            "    <tr>\n",
                            "      <th>278</th>\n",
                            "      <td>Alfie - Live/1970</td>\n",
                            "      <td>5.14</td>\n",
                            "      <td>14</td>\n",
                            "    </tr>\n",
                            "    <tr>\n",
                            "      <th>279</th>\n",
                            "      <td>For Once In My Life/Thank You Love - Live/1970</td>\n",
                            "      <td>3.58</td>\n",
                            "      <td>15</td>\n",
                            "    </tr>\n",
                            "  </tbody>\n",
                            "</table>\n",
                            "<p>280 rows × 3 columns</p>\n",
                            "</div>"
                        ],
                        "text/plain": [
                            "                                               name  duration  song number\n",
                            "0                        Bird Of Beauty - Live 1975      6.64            1\n",
                            "1                             Contusion - Live 1975      2.16            2\n",
                            "2                                   Jam - Live 1975      3.10            3\n",
                            "3                             Yea Ya Do - Live 1975      2.35            4\n",
                            "4                         Higher Ground - Live 1975      4.36            5\n",
                            "..                                              ...       ...          ...\n",
                            "275                 Blowin' In The Wind - Live/1970      6.68           11\n",
                            "276        By The Time I Get To Phoenix - Live/1970      4.16           12\n",
                            "277                         Ca' Purange - Live/1970      6.86           13\n",
                            "278                               Alfie - Live/1970      5.14           14\n",
                            "279  For Once In My Life/Thank You Love - Live/1970      3.58           15\n",
                            "\n",
                            "[280 rows x 3 columns]"
                        ]
                    },
                    "metadata": {},
                    "output_type": "display_data"
                }
            ],
            "source": [
                "# Ahora solo hay que repetir el proceso de la practica 1 , aunque en este caso no hay valor de popularidad\n",
                "\n",
                "# definimos las listas donde se incluiran las caracteristicas de cada cancion\n",
                "all_tracks_name= []\n",
                "all_tracks_duration = []\n",
                "all_tracks_track_number = []\n",
                "# iteramos sobre cada album del diccionario resultado complete_tracks\n",
                "for album in complete_tracks:\n",
                "    tracks = album['items']\n",
                "    # iteramos sobre cada cancion dentro de cada album = dentro de la subclave album['items']\n",
                "    for track in tracks:\n",
                "        # extraemos // nombre, duracion y numero de track dentro del disco //  añadimos a sus respectivas listas \n",
                "        all_tracks_name.append(track['name'])\n",
                "        all_tracks_duration.append(round((track['duration_ms']/1000)/60, 2))\n",
                "        all_tracks_track_number.append(track['track_number'])\n",
                "\n",
                "# creamos el nuevo dataframe \n",
                "stevie_df =pd.DataFrame(list(zip(all_tracks_name, all_tracks_duration, all_tracks_track_number)), columns= ['name', 'duration', 'song number'])\n",
                "display(stevie_df)"
            ]
        },
        {
            "cell_type": "code",
            "execution_count": null,
            "metadata": {},
            "outputs": [],
            "source": []
        }
    ],
    "metadata": {
        "kernelspec": {
            "display_name": "Python 3.8.13 64-bit ('3.8.13')",
            "language": "python",
            "name": "python3"
        },
        "language_info": {
            "codemirror_mode": {
                "name": "ipython",
                "version": 3
            },
            "file_extension": ".py",
            "mimetype": "text/x-python",
            "name": "python",
            "nbconvert_exporter": "python",
            "pygments_lexer": "ipython3",
            "version": "3.12.1"
        },
        "orig_nbformat": 4,
        "vscode": {
            "interpreter": {
                "hash": "110cc1dee26208153f2972f08a2ad52b6a56238dc66d48e87fb757ef2996db56"
            }
        }
    },
    "nbformat": 4,
    "nbformat_minor": 2
}
