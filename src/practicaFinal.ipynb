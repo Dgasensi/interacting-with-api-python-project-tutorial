{
    "cells": [
        {
            "cell_type": "markdown",
            "metadata": {},
            "source": [
                "# Explore here"
            ]
        },
        {
            "cell_type": "code",
            "execution_count": 1,
            "metadata": {},
            "outputs": [
                {
                    "name": "stdout",
                    "output_type": "stream",
                    "text": [
                        "[2.69, 2.83, 4.37, 4.09, 3.88, 4.21, 2.97, 4.26, 3.32, 2.89]\n"
                    ]
                },
                {
                    "data": {
                        "text/html": [
                            "<div>\n",
                            "<style scoped>\n",
                            "    .dataframe tbody tr th:only-of-type {\n",
                            "        vertical-align: middle;\n",
                            "    }\n",
                            "\n",
                            "    .dataframe tbody tr th {\n",
                            "        vertical-align: top;\n",
                            "    }\n",
                            "\n",
                            "    .dataframe thead th {\n",
                            "        text-align: right;\n",
                            "    }\n",
                            "</style>\n",
                            "<table border=\"1\" class=\"dataframe\">\n",
                            "  <thead>\n",
                            "    <tr style=\"text-align: right;\">\n",
                            "      <th></th>\n",
                            "      <th>nombre</th>\n",
                            "      <th>popularidad</th>\n",
                            "      <th>duracion_minutos</th>\n",
                            "    </tr>\n",
                            "  </thead>\n",
                            "  <tbody>\n",
                            "    <tr>\n",
                            "      <th>0</th>\n",
                            "      <td>Signed, Sealed, Delivered (I'm Yours)</td>\n",
                            "      <td>80</td>\n",
                            "      <td>2.69</td>\n",
                            "    </tr>\n",
                            "    <tr>\n",
                            "      <th>1</th>\n",
                            "      <td>For Once In My Life</td>\n",
                            "      <td>79</td>\n",
                            "      <td>2.83</td>\n",
                            "    </tr>\n",
                            "    <tr>\n",
                            "      <th>2</th>\n",
                            "      <td>I Just Called To Say I Love You</td>\n",
                            "      <td>78</td>\n",
                            "      <td>4.37</td>\n",
                            "    </tr>\n",
                            "    <tr>\n",
                            "      <th>3</th>\n",
                            "      <td>Superstition - Single Version</td>\n",
                            "      <td>77</td>\n",
                            "      <td>4.09</td>\n",
                            "    </tr>\n",
                            "    <tr>\n",
                            "      <th>4</th>\n",
                            "      <td>Sir Duke</td>\n",
                            "      <td>75</td>\n",
                            "      <td>3.88</td>\n",
                            "    </tr>\n",
                            "    <tr>\n",
                            "      <th>5</th>\n",
                            "      <td>Part-Time Lover</td>\n",
                            "      <td>72</td>\n",
                            "      <td>4.21</td>\n",
                            "    </tr>\n",
                            "    <tr>\n",
                            "      <th>6</th>\n",
                            "      <td>You Are The Sunshine Of My Life</td>\n",
                            "      <td>73</td>\n",
                            "      <td>2.97</td>\n",
                            "    </tr>\n",
                            "    <tr>\n",
                            "      <th>7</th>\n",
                            "      <td>That's What Friends Are For</td>\n",
                            "      <td>43</td>\n",
                            "      <td>4.26</td>\n",
                            "    </tr>\n",
                            "    <tr>\n",
                            "      <th>8</th>\n",
                            "      <td>Isn't She Lovely</td>\n",
                            "      <td>70</td>\n",
                            "      <td>3.32</td>\n",
                            "    </tr>\n",
                            "    <tr>\n",
                            "      <th>9</th>\n",
                            "      <td>My Cherie Amour</td>\n",
                            "      <td>70</td>\n",
                            "      <td>2.89</td>\n",
                            "    </tr>\n",
                            "  </tbody>\n",
                            "</table>\n",
                            "</div>"
                        ],
                        "text/plain": [
                            "                                  nombre  popularidad  duracion_minutos\n",
                            "0  Signed, Sealed, Delivered (I'm Yours)           80              2.69\n",
                            "1                    For Once In My Life           79              2.83\n",
                            "2        I Just Called To Say I Love You           78              4.37\n",
                            "3          Superstition - Single Version           77              4.09\n",
                            "4                               Sir Duke           75              3.88\n",
                            "5                        Part-Time Lover           72              4.21\n",
                            "6        You Are The Sunshine Of My Life           73              2.97\n",
                            "7            That's What Friends Are For           43              4.26\n",
                            "8                       Isn't She Lovely           70              3.32\n",
                            "9                        My Cherie Amour           70              2.89"
                        ]
                    },
                    "metadata": {},
                    "output_type": "display_data"
                },
                {
                    "data": {
                        "image/png": "[encoded data removed]",
                        "text/plain": [
                            "<Figure size 640x480 with 1 Axes>"
                        ]
                    },
                    "metadata": {},
                    "output_type": "display_data"
                }
            ],
            "source": [
                "import os\n",
                "from sqlalchemy import create_engine\n",
                "import matplotlib.pyplot as plt\n",
                "import seaborn as sbn\n",
                "import pandas as pd\n",
                "import spotipy\n",
                "from dotenv import load_dotenv\n",
                "from spotipy.oauth2 import SpotifyClientCredentials\n",
                "load_dotenv()\n",
                "\n",
                "client_id = os.environ.get('CLIENT_ID')\n",
                "client_secret = os.environ.get('CLIENT_SECRET')\n",
                "\n",
                "\n",
                "\n",
                "spot = spotipy.Spotify(auth_manager = SpotifyClientCredentials(client_id = client_id,\n",
                "                                                              client_secret = client_secret))\n",
                "SW_uri = 'spotify:artist:7guDJrEfX3qb6FEbdPA5qi'\n",
                "\n",
                "results = spot.artist_top_tracks(SW_uri)\n",
                "\n",
                "top10_name= []\n",
                "top10_duration_ms = []\n",
                "top10_popularity = []\n",
                "for track in results['tracks'][:10]:\n",
                "    top10_name.append(track['name'])\n",
                "    top10_duration_ms.append(round((track['duration_ms']/1000)/60, 2))\n",
                "    top10_popularity.append(track['popularity'])\n",
                "    \n",
                "print(top10_duration_ms)\n",
                "top10_df = pd.DataFrame(list(zip(top10_name, top10_popularity, top10_duration_ms)), columns=['nombre', 'popularidad', 'duracion_minutos'])\n",
                "display(top10_df)\n",
                "\n",
                "\n",
                "sbn.scatterplot(x='popularidad', y='duracion_minutos', data=top10_df)\n",
                "plt.show()"
            ]
        },
        {
            "cell_type": "markdown",
            "metadata": {},
            "source": [
                "### Conclusiones\n",
                "No se observa ninguna relación entre duración y popularidad. Casi todos los datos estan distribuidos en el mismo rango de \n",
                "popularidad independientemente de la duración de la canción a excepcion de 'That's What Friends Are For' que es realmente mala :)"
            ]
        }
    ],
    "metadata": {
        "kernelspec": {
            "display_name": "Python 3.8.13 64-bit ('3.8.13')",
            "language": "python",
            "name": "python3"
        },
        "language_info": {
            "codemirror_mode": {
                "name": "ipython",
                "version": 3
            },
            "file_extension": ".py",
            "mimetype": "text/x-python",
            "name": "python",
            "nbconvert_exporter": "python",
            "pygments_lexer": "ipython3",
            "version": "3.12.1"
        },
        "orig_nbformat": 4,
        "vscode": {
            "interpreter": {
                "hash": "110cc1dee26208153f2972f08a2ad52b6a56238dc66d48e87fb757ef2996db56"
            }
        }
    },
    "nbformat": 4,
    "nbformat_minor": 2
}
